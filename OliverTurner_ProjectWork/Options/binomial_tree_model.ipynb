{
 "cells": [
  {
   "cell_type": "code",
   "execution_count": 7,
   "metadata": {},
   "outputs": [],
   "source": [
    "import yfinance as yf\n",
    "import pandas as pd\n",
    "import numpy as np\n",
    "import matplotlib.pyplot as plt\n"
   ]
  },
  {
   "cell_type": "markdown",
   "metadata": {},
   "source": [
    "## Retrieving option chain data"
   ]
  },
  {
   "cell_type": "code",
   "execution_count": 8,
   "metadata": {},
   "outputs": [],
   "source": [
    "\n",
    "def get_options_chain(ticker_symbol, expiration_date):\n",
    "    \"\"\"\n",
    "    Fetches the options chain for the given ticker and expiration date.\n",
    "\n",
    "    Parameters:\n",
    "    ticker_symbol (str): The ticker symbol for the stock.\n",
    "    expiration_date (str): The expiration date for the options chain.\n",
    "\n",
    "    Returns:\n",
    "    pandas.DataFrame: The options chain for the given ticker and expiration date.\n",
    "    \"\"\"\n",
    "    # Fetch the data for the ticker\n",
    "    ticker_data = yf.Ticker(ticker_symbol)\n",
    "\n",
    "    # Fetch the options chain for the chosen expiration date\n",
    "    options_chain = ticker_data.option_chain(expiration_date)\n",
    "\n",
    "    return options_chain\n",
    "\n",
    "\n"
   ]
  },
  {
   "cell_type": "code",
   "execution_count": 12,
   "metadata": {},
   "outputs": [],
   "source": [
    "oc = get_options_chain('AAPL', '2024-03-28')"
   ]
  },
  {
   "cell_type": "code",
   "execution_count": 32,
   "metadata": {},
   "outputs": [],
   "source": [
    "calls = pd.DataFrame(oc.calls)"
   ]
  },
  {
   "cell_type": "code",
   "execution_count": 36,
   "metadata": {},
   "outputs": [
    {
     "data": {
      "text/html": [
       "<div>\n",
       "<style scoped>\n",
       "    .dataframe tbody tr th:only-of-type {\n",
       "        vertical-align: middle;\n",
       "    }\n",
       "\n",
       "    .dataframe tbody tr th {\n",
       "        vertical-align: top;\n",
       "    }\n",
       "\n",
       "    .dataframe thead th {\n",
       "        text-align: right;\n",
       "    }\n",
       "</style>\n",
       "<table border=\"1\" class=\"dataframe\">\n",
       "  <thead>\n",
       "    <tr style=\"text-align: right;\">\n",
       "      <th></th>\n",
       "      <th>contractSymbol</th>\n",
       "      <th>lastTradeDate</th>\n",
       "      <th>strike</th>\n",
       "      <th>lastPrice</th>\n",
       "      <th>bid</th>\n",
       "      <th>ask</th>\n",
       "      <th>change</th>\n",
       "      <th>percentChange</th>\n",
       "      <th>volume</th>\n",
       "      <th>openInterest</th>\n",
       "      <th>impliedVolatility</th>\n",
       "      <th>inTheMoney</th>\n",
       "      <th>contractSize</th>\n",
       "      <th>currency</th>\n",
       "    </tr>\n",
       "  </thead>\n",
       "  <tbody>\n",
       "    <tr>\n",
       "      <th>12</th>\n",
       "      <td>AAPL240328C00190000</td>\n",
       "      <td>2024-02-20 17:44:27+00:00</td>\n",
       "      <td>190.0</td>\n",
       "      <td>1.8</td>\n",
       "      <td>1.77</td>\n",
       "      <td>1.8</td>\n",
       "      <td>-0.44</td>\n",
       "      <td>-19.730946</td>\n",
       "      <td>373.0</td>\n",
       "      <td>1793</td>\n",
       "      <td>0.214974</td>\n",
       "      <td>False</td>\n",
       "      <td>REGULAR</td>\n",
       "      <td>USD</td>\n",
       "    </tr>\n",
       "  </tbody>\n",
       "</table>\n",
       "</div>"
      ],
      "text/plain": [
       "         contractSymbol             lastTradeDate  strike  lastPrice   bid  \\\n",
       "12  AAPL240328C00190000 2024-02-20 17:44:27+00:00   190.0        1.8  1.77   \n",
       "\n",
       "    ask  change  percentChange  volume  openInterest  impliedVolatility  \\\n",
       "12  1.8   -0.44     -19.730946   373.0          1793           0.214974   \n",
       "\n",
       "    inTheMoney contractSize currency  \n",
       "12       False      REGULAR      USD  "
      ]
     },
     "execution_count": 36,
     "metadata": {},
     "output_type": "execute_result"
    }
   ],
   "source": [
    "aapl190c = calls.loc[calls['strike'] == 190.0]\n",
    "r = 1 + 0.055\n",
    "S = 181.56\n",
    "K = 190\n",
    "T = 1/12\n",
    "u"
   ]
  },
  {
   "cell_type": "markdown",
   "metadata": {},
   "source": [
    "## Using the binomial tree modeel to calculate the delta"
   ]
  },
  {
   "cell_type": "code",
   "execution_count": 45,
   "metadata": {},
   "outputs": [
    {
     "name": "stdout",
     "output_type": "stream",
     "text": [
      "S = 184.3699951171875, K = 180, r = 1.055, T = 0.08333333333333333, IV = 0.22901161621093752\n",
      "The price of the option is: 22.71\n",
      "The delta of the option is: 1.05\n"
     ]
    },
    {
     "name": "stderr",
     "output_type": "stream",
     "text": [
      "c:\\Users\\olive\\anaconda3\\envs\\PortOptEnv\\Lib\\site-packages\\yfinance\\utils.py:775: FutureWarning: The 'unit' keyword in TimedeltaIndex construction is deprecated and will be removed in a future version. Use pd.to_timedelta instead.\n",
      "  df.index += _pd.TimedeltaIndex(dst_error_hours, 'h')\n"
     ]
    }
   ],
   "source": [
    "def american_call_binomial(S, K, r, sigma, T):\n",
    "    \"\"\"\n",
    "    Prices an American call option using a two-period binomial tree and calculates delta.\n",
    "\n",
    "    Parameters:\n",
    "    S (float): Current stock price\n",
    "    K (float): Strike price of the option\n",
    "    r (float): Risk-free interest rate for one period\n",
    "    sigma (float): Implied Volatility of the stock\n",
    "    T (float): Time to expiration\n",
    "    \n",
    "    Returns:\n",
    "    C (float): Price of the American call option\n",
    "    delta (float): Delta of the option\n",
    "    \"\"\"\n",
    "    # Define up and down movement factors\n",
    "    u = np.exp(sigma* np.sqrt(T/2))\n",
    "    d = 1/u\n",
    "\n",
    "    # Calculate risk-neutral probabilities\n",
    "    p = (r - d) / (u - d)\n",
    "    \n",
    "    # Calculate the option value at terminal nodes\n",
    "    Cuu = max(0, u**2 * S - K)\n",
    "    Cud = max(0, u * d * S - K) # Since it's an American option, we consider the possibility of early exercise\n",
    "    Cdd = max(0, d**2 * S - K)\n",
    "    \n",
    "    # Calculate the option value at the first nodes\n",
    "    Cu = (p * Cuu + (1 - p) * Cud) / r\n",
    "    Cd = (p * Cud + (1 - p) * Cdd) / r\n",
    "    \n",
    "    # Calculate the option value now\n",
    "    C = max(S - K, (p * Cu + (1 - p) * Cd) / r)\n",
    "    \n",
    "    # Calculate delta\n",
    "    delta = (Cu - Cd) / ((u - d) * S)\n",
    "    \n",
    "    return C, delta\n",
    "\n",
    "# Example use on aapl 180c:\n",
    "#AAPL current price\n",
    "S = yf.Ticker('AAPL').history(period='1d').iloc[0]['Close']\n",
    "#get options chain\n",
    "AppleOC = get_options_chain('AAPL', '2024-03-28')\n",
    "#calls\n",
    "calls = pd.DataFrame(AppleOC.calls)\n",
    "#180 strike call\n",
    "aapl190c = calls.loc[calls['strike'] == 180.0]\n",
    "k = 180\n",
    "r = 1 + 0.055\n",
    "T = 1/12\n",
    "#implied volatility\n",
    "IV = aapl190c['impliedVolatility'].astype(float).iloc[0]\n",
    "\n",
    "print(f'S = {S}, K = {k}, r = {r}, T = {T}, IV = {IV}')\n",
    "option_price, option_delta = american_call_binomial(S=S, K=k, r=r, sigma=IV, T=T)\n",
    "\n",
    "\n",
    "print(f\"The price of the option is: {option_price:.2f}\")\n",
    "print(f\"The delta of the option is: {option_delta:.2f}\")\n"
   ]
  },
  {
   "cell_type": "code",
   "execution_count": 47,
   "metadata": {},
   "outputs": [
    {
     "name": "stdout",
     "output_type": "stream",
     "text": [
      "S = 184.3699951171875, K = 180, r = 0.055, T = 0.08333333333333333, IV = 0.22901161621093752\n",
      "The price of the option is: 8.05\n",
      "The delta of the option is: 0.66\n"
     ]
    },
    {
     "name": "stderr",
     "output_type": "stream",
     "text": [
      "c:\\Users\\olive\\anaconda3\\envs\\PortOptEnv\\Lib\\site-packages\\yfinance\\utils.py:775: FutureWarning: The 'unit' keyword in TimedeltaIndex construction is deprecated and will be removed in a future version. Use pd.to_timedelta instead.\n",
      "  df.index += _pd.TimedeltaIndex(dst_error_hours, 'h')\n"
     ]
    }
   ],
   "source": [
    "import numpy as np\n",
    "import yfinance as yf\n",
    "import pandas as pd\n",
    "\n",
    "def american_call_binomial(S, K, r, sigma, T):\n",
    "    \"\"\"\n",
    "    Prices an American call option using a two-period binomial tree and calculates delta.\n",
    "\n",
    "    Parameters:\n",
    "    S (float): Current stock price\n",
    "    K (float): Strike price of the option\n",
    "    r (float): Risk-free interest rate for one period\n",
    "    sigma (float): Implied Volatility of the stock\n",
    "    T (float): Time to expiration\n",
    "    \n",
    "    Returns:\n",
    "    C (float): Price of the American call option\n",
    "    delta (float): Delta of the option\n",
    "    \"\"\"\n",
    "    # Define up and down movement factors\n",
    "    u = np.exp(sigma * np.sqrt(T / 2))\n",
    "    d = 1 / u\n",
    "\n",
    "    # Calculate risk-neutral probabilities\n",
    "    p = (np.exp(r * T / 2) - d) / (u - d)\n",
    "    \n",
    "    # Calculate the option value at terminal nodes\n",
    "    Cuu = max(0, u**2 * S - K)\n",
    "    Cud = max(0, u * d * S - K)  # Since it's an American option, we consider the possibility of early exercise\n",
    "    Cdd = max(0, d**2 * S - K)\n",
    "    \n",
    "    # Calculate the option value at the first nodes\n",
    "    Cu = np.exp(-r * T / 2) * (p * Cuu + (1 - p) * Cud)\n",
    "    Cd = np.exp(-r * T / 2) * (p * Cud + (1 - p) * Cdd)\n",
    "    \n",
    "    # Calculate the option value now\n",
    "    C = np.exp(-r * T / 2) * (p * Cu + (1 - p) * Cd)\n",
    "    \n",
    "    # Calculate delta\n",
    "    delta = (Cu - Cd) / ((u - d) * S)\n",
    "    \n",
    "    return C, delta\n",
    "# Example use on march 28 aapl 180c:\n",
    "#AAPL current price\n",
    "S = yf.Ticker('AAPL').history(period='1d').iloc[0]['Close']\n",
    "#get options chain\n",
    "AppleOC = get_options_chain('AAPL', '2024-03-28')\n",
    "#calls\n",
    "calls = pd.DataFrame(AppleOC.calls)\n",
    "#180 strike call\n",
    "aapl190c = calls.loc[calls['strike'] == 180.0]\n",
    "k = 180\n",
    "r = 0.055\n",
    "T = 1/12\n",
    "#implied volatility\n",
    "IV = aapl190c['impliedVolatility'].astype(float).iloc[0]\n",
    "\n",
    "print(f'S = {S}, K = {k}, r = {r}, T = {T}, IV = {IV}')\n",
    "option_price, option_delta = american_call_binomial(S=S, K=k, r=r, sigma=IV, T=T)\n",
    "\n",
    "\n",
    "print(f\"The price of the option is: {option_price:.2f}\")\n",
    "print(f\"The delta of the option is: {option_delta:.2f}\")\n"
   ]
  },
  {
   "cell_type": "code",
   "execution_count": 49,
   "metadata": {},
   "outputs": [
    {
     "name": "stderr",
     "output_type": "stream",
     "text": [
      "c:\\Users\\olive\\anaconda3\\envs\\PortOptEnv\\Lib\\site-packages\\yfinance\\utils.py:775: FutureWarning: The 'unit' keyword in TimedeltaIndex construction is deprecated and will be removed in a future version. Use pd.to_timedelta instead.\n",
      "  df.index += _pd.TimedeltaIndex(dst_error_hours, 'h')\n"
     ]
    },
    {
     "name": "stdout",
     "output_type": "stream",
     "text": [
      "S = 184.3699951171875, K = 200, r = 0.055, T = 0.9166666666666666, IV = 0.25659923095703124\n",
      "The price of the option is: 16.27\n",
      "The delta of the option is: 0.49\n"
     ]
    }
   ],
   "source": [
    "# Example use on jan 17 2025 aapl 200c:\n",
    "#AAPL current price\n",
    "S = yf.Ticker('AAPL').history(period='1d').iloc[0]['Close']\n",
    "#get options chain\n",
    "AppleOC = get_options_chain('AAPL', '2025-01-17')\n",
    "#calls\n",
    "calls = pd.DataFrame(AppleOC.calls)\n",
    "#180 strike call\n",
    "aapl200c = calls.loc[calls['strike'] == 200.0]\n",
    "k = 200\n",
    "r = 0.055\n",
    "T = 11/12\n",
    "#implied volatility\n",
    "IV = aapl200c['impliedVolatility'].astype(float).iloc[0]\n",
    "\n",
    "print(f'S = {S}, K = {k}, r = {r}, T = {T}, IV = {IV}')\n",
    "option_price, option_delta = american_call_binomial(S=S, K=k, r=r, sigma=IV, T=T)\n",
    "\n",
    "\n",
    "print(f\"The price of the option is: {option_price:.2f}\")\n",
    "print(f\"The delta of the option is: {option_delta:.2f}\")\n"
   ]
  },
  {
   "cell_type": "code",
   "execution_count": 50,
   "metadata": {},
   "outputs": [],
   "source": [
    "def american_put_binomial(S, K, r, sigma, T):\n",
    "    \"\"\"\n",
    "    Prices an American put option using a two-period binomial tree and calculates delta.\n",
    "\n",
    "    Parameters:\n",
    "    S (float): Current stock price\n",
    "    K (float): Strike price of the option\n",
    "    r (float): Risk-free interest rate for one period\n",
    "    sigma (float): Implied Volatility of the stock\n",
    "    T (float): Time to expiration\n",
    "    \n",
    "    Returns:\n",
    "    P (float): Price of the American put option\n",
    "    delta (float): Delta of the option\n",
    "    \"\"\"\n",
    "    # Define up and down movement factors\n",
    "    u = np.exp(sigma * np.sqrt(T / 2))\n",
    "    d = 1 / u\n",
    "\n",
    "    # Calculate risk-neutral probabilities\n",
    "    p = (np.exp(r * T / 2) - d) / (u - d)\n",
    "    \n",
    "    # Calculate the option value at terminal nodes\n",
    "    Puu = max(0, K - u**2 * S)\n",
    "    Pud = max(0, K - u * d * S)  # Since it's an American option, we consider the possibility of early exercise\n",
    "    Pdd = max(0, K - d**2 * S)\n",
    "    \n",
    "    # Calculate the option value at the first nodes\n",
    "    Pu = np.exp(-r * T / 2) * (p * Puu + (1 - p) * Pud)\n",
    "    Pd = np.exp(-r * T / 2) * (p * Pud + (1 - p) * Pdd)\n",
    "    \n",
    "    # Calculate the option value now\n",
    "    P = np.exp(-r * T / 2) * (p * Pu + (1 - p) * Pd)\n",
    "    \n",
    "    # Calculate delta\n",
    "    delta = (Pu - Pd) / ((u - d) * S)\n",
    "    \n",
    "    return P, delta"
   ]
  },
  {
   "cell_type": "code",
   "execution_count": 51,
   "metadata": {},
   "outputs": [
    {
     "name": "stdout",
     "output_type": "stream",
     "text": [
      "S = 184.3699951171875, K = 200, r = 0.055, T = 0.9166666666666666, IV = 0.15451895294189455\n",
      "The price of the option is: 15.00\n",
      "The delta of the option is: -0.59\n"
     ]
    },
    {
     "name": "stderr",
     "output_type": "stream",
     "text": [
      "c:\\Users\\olive\\anaconda3\\envs\\PortOptEnv\\Lib\\site-packages\\yfinance\\utils.py:775: FutureWarning: The 'unit' keyword in TimedeltaIndex construction is deprecated and will be removed in a future version. Use pd.to_timedelta instead.\n",
      "  df.index += _pd.TimedeltaIndex(dst_error_hours, 'h')\n"
     ]
    }
   ],
   "source": [
    "# Example use on AAPL 200 put:\n",
    "# AAPL current price\n",
    "S = yf.Ticker('AAPL').history(period='1d').iloc[0]['Close']\n",
    "# Get options chain\n",
    "AppleOC = yf.Ticker('AAPL').option_chain('2025-01-17')\n",
    "# Puts\n",
    "puts = pd.DataFrame(AppleOC.puts)\n",
    "# 180 strike put\n",
    "aapl200p = puts.loc[puts['strike'] == 200.0]\n",
    "k = 200\n",
    "# Assuming the risk-free rate is 5.5% annually, expressed as a decimal\n",
    "r = 0.055\n",
    "T = 11/12\n",
    "# Implied volatility\n",
    "IV = aapl200p['impliedVolatility'].astype(float).iloc[0]\n",
    "\n",
    "print(f'S = {S}, K = {k}, r = {r}, T = {T}, IV = {IV}')\n",
    "option_price, option_delta = american_put_binomial(S=S, K=k, r=r, sigma=IV, T=T)\n",
    "\n",
    "print(f\"The price of the option is: {option_price:.2f}\")\n",
    "print(f\"The delta of the option is: {option_delta:.2f}\")"
   ]
  },
  {
   "cell_type": "code",
   "execution_count": 52,
   "metadata": {},
   "outputs": [
    {
     "name": "stdout",
     "output_type": "stream",
     "text": [
      "S = 184.3699951171875, K = 180, r = 0.055, T = 0.08333333333333333, IV = 0.1834798449707031\n",
      "The price of the option is: 2.04\n",
      "The delta of the option is: -0.31\n"
     ]
    },
    {
     "name": "stderr",
     "output_type": "stream",
     "text": [
      "c:\\Users\\olive\\anaconda3\\envs\\PortOptEnv\\Lib\\site-packages\\yfinance\\utils.py:775: FutureWarning: The 'unit' keyword in TimedeltaIndex construction is deprecated and will be removed in a future version. Use pd.to_timedelta instead.\n",
      "  df.index += _pd.TimedeltaIndex(dst_error_hours, 'h')\n"
     ]
    }
   ],
   "source": [
    "# Example use on AAPL 180 put:\n",
    "# AAPL current price\n",
    "S = yf.Ticker('AAPL').history(period='1d').iloc[0]['Close']\n",
    "# Get options chain\n",
    "AppleOC = yf.Ticker('AAPL').option_chain('2024-03-28')\n",
    "# Puts\n",
    "puts = pd.DataFrame(AppleOC.puts)\n",
    "# 180 strike put\n",
    "aapl200p = puts.loc[puts['strike'] == 180.0]\n",
    "k = 180\n",
    "# Assuming the risk-free rate is 5.5% annually, expressed as a decimal\n",
    "r = 0.055\n",
    "T = 1/12\n",
    "# Implied volatility\n",
    "IV = aapl200p['impliedVolatility'].astype(float).iloc[0]\n",
    "\n",
    "print(f'S = {S}, K = {k}, r = {r}, T = {T}, IV = {IV}')\n",
    "option_price, option_delta = american_put_binomial(S=S, K=k, r=r, sigma=IV, T=T)\n",
    "\n",
    "print(f\"The price of the option is: {option_price:.2f}\")\n",
    "print(f\"The delta of the option is: {option_delta:.2f}\")"
   ]
  },
  {
   "cell_type": "code",
   "execution_count": null,
   "metadata": {},
   "outputs": [],
   "source": []
  }
 ],
 "metadata": {
  "kernelspec": {
   "display_name": "PortOptEnv",
   "language": "python",
   "name": "python3"
  },
  "language_info": {
   "codemirror_mode": {
    "name": "ipython",
    "version": 3
   },
   "file_extension": ".py",
   "mimetype": "text/x-python",
   "name": "python",
   "nbconvert_exporter": "python",
   "pygments_lexer": "ipython3",
   "version": "3.11.7"
  }
 },
 "nbformat": 4,
 "nbformat_minor": 2
}
